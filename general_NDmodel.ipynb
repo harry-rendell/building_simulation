{
 "cells": [
  {
   "cell_type": "code",
   "execution_count": 125,
   "id": "0196b4c6",
   "metadata": {},
   "outputs": [],
   "source": [
    "import numpy as np\n",
    "import matplotlib.pyplot as plt"
   ]
  },
  {
   "cell_type": "markdown",
   "id": "5b26129c",
   "metadata": {},
   "source": [
    "##### Below is a generalised model of simple_model.ipynb, allowing for any number of segments.\n",
    "This model has a few assumptions:\n",
    "* 1D model, each segment can only transfer heat to neighbouring segments\n",
    "* There is a heat source which supplies (or draws) heat from segment 0, the magnitude of which is set by Q_in\n",
    "* The final segment may disspiate heat to surroundings. The outside temperature is set by T_out."
   ]
  },
  {
   "cell_type": "code",
   "execution_count": 241,
   "id": "e5242069",
   "metadata": {},
   "outputs": [],
   "source": [
    "class system():\n",
    "    def __init__(self, k, c, T, T_out, Q_in):\n",
    "        \"\"\"\n",
    "        Initialise class and set system parameters\n",
    "\n",
    "        Parameters\n",
    "        ----------\n",
    "        k : array of floats\n",
    "            Thermal conductivity of segments\n",
    "        c : array of floats\n",
    "            Heat capacity of segments\n",
    "        T : array of floats\n",
    "            Initial temperature of segments\n",
    "        T_out : float\n",
    "            Outside temperature (Celcius)\n",
    "        Q_in : float\n",
    "             Heat supply to segment 0 (Watts)\n",
    "        \"\"\"\n",
    "        self.k = np.array(k) # Thermal conductivity of segments\n",
    "        self.c = np.array(c) # Heat capacity of segments\n",
    "        self.T = np.array(T) # Temperatures of segments\n",
    "#         self.T_c = T_c # Temperature of central node\n",
    "        \n",
    "        n_br, n_seg = self.T.shape\n",
    "        self.n_br  = n_br # Number of branches\n",
    "        self.n_seg = n_seg # Number of segments per branch \n",
    "        # NOTE currently all branches must have same no. of segments, need to change this (or have empty segments to ensure same shape)\n",
    "        \n",
    "        assert (len(self.k) == n_br) & (len(self.c) == n_br), 'input parameter shape mismatch'\n",
    "        \n",
    "        self.T_out = np.array(T_out)\n",
    "        self.Q_in = Q_in\n",
    "        \n",
    "    def update(self, timestep):\n",
    "        \"\"\"\n",
    "        Calculate heat flux between segments and update temperatures\n",
    "\n",
    "        Parameters\n",
    "        ----------\n",
    "        timestep : float\n",
    "            Time interval between iterations\n",
    "        \"\"\"      \n",
    "        heat_flux = np.diff(np.hstack((self.T,self.T_out[:,np.newaxis])))*self.c\n",
    "        net_heat_flux = np.diff(heat_flux)\n",
    "        \n",
    "        # update non central nodes\n",
    "        self.T[:, 1:] += ( net_heat_flux / self.k[:,1:] ) * timestep\n",
    "        \n",
    "        # update central node\n",
    "        self.T[:, 0] += ( (heat_flux[:,0] / self.k[:,0]).sum() + self.Q_in ) * timestep \n",
    "        \n",
    "    def run(self, iterations, timestep, plot=True):\n",
    "        \"\"\"\n",
    "        Run simulation for given number of iterations with given timestep\n",
    "\n",
    "        Parameters\n",
    "        ----------\n",
    "        iterations : int\n",
    "            number of iterations to run the simulation\n",
    "        \n",
    "        timestep : float\n",
    "            time interval between each iteration\n",
    "        \n",
    "        plot : bool, default = True\n",
    "            Set to False to omit plot\n",
    "\n",
    "        Returns\n",
    "        -------\n",
    "        Ts : ndarray, shape (number of iterations, number of segments)\n",
    "            numpy array of temperatures for each segment, for each timestep\n",
    "        \"\"\"\n",
    "        Ts = np.empty(shape=(iterations, self.n_br, self.n_seg))\n",
    "        for i in range(iterations):\n",
    "            sys.update(timestep)\n",
    "            Ts[i] = sys.T\n",
    "            \n",
    "        Ts = np.transpose(Ts,axes=(1,2,0)) # New shape has (n_branches, n_segments, n_iterations)\n",
    "        \n",
    "        if plot:\n",
    "            \n",
    "            time = np.linspace(0,iterations*timestep/(3600*24),iterations, endpoint=False)\n",
    "            fig, ax = plt.subplots(1,1, figsize=(10,5))\n",
    "            for i, T_br in enumerate(Ts):\n",
    "                for j, T_seg in enumerate(T_br[1:]):\n",
    "                    ax.plot(time, T_seg, label='branch: {}, segment: {}'.format(i,j))\n",
    "            ax.plot(time, Ts[0,0,:], label='Central temperature')\n",
    "            ax.set(xlabel='Time (days)', ylabel='Temperature (C)')\n",
    "            ax.legend()\n",
    "            \n",
    "        return Ts"
   ]
  },
  {
   "cell_type": "code",
   "execution_count": 247,
   "id": "ac93a069",
   "metadata": {},
   "outputs": [
    {
     "data": {
      "image/png": "[encoded data removed]",
      "text/plain": [
       "<Figure size 720x360 with 1 Axes>"
      ]
     },
     "metadata": {
      "needs_background": "light"
     },
     "output_type": "display_data"
    }
   ],
   "source": [
    "# More complex example, 7 segments in series\n",
    "# k = [[6e5, 2.5e6], [1.5e7, 2.1e5], [6.5e6, 6.9e6]]\n",
    "# c = [[800.0, 500.0], [300.0, 150.0], [400.0, 1000.0]]\n",
    "k = [[1e6, 1e7], [1e5, 1e6], [1e8, 1e5]]\n",
    "c = [[1000.0, 1500.0], [2000.0, 3000.0], [500.0, 3000.0]]\n",
    "T = [[10.0, 20.0], [10.0, 17.0], [10.0, 10.0]] # first entry in each sub array must be the same, it is the temperature of the central node\n",
    "T_out = [5.0, 10.0, 7.0]\n",
    "heatinput = 0.5\n",
    "# Initialise class with system parameters\n",
    "sys = system(k, c, T, T_out, heatinput)\n",
    "\n",
    "# Run simulation. This recreates simple_model.ipynb showing that our generalised model works.\n",
    "Ts = sys.run(iterations=2000, timestep=1)"
   ]
  },
  {
   "cell_type": "code",
   "execution_count": null,
   "id": "9fcb0d19",
   "metadata": {},
   "outputs": [],
   "source": []
  },
  {
   "cell_type": "code",
   "execution_count": 98,
   "id": "bcfb2dc6",
   "metadata": {},
   "outputs": [],
   "source": [
    "test = Ts.reshape((6,5000))"
   ]
  },
  {
   "cell_type": "code",
   "execution_count": 110,
   "id": "8229e033",
   "metadata": {},
   "outputs": [
    {
     "data": {
      "text/plain": [
       "(5000, 3, 2)"
      ]
     },
     "execution_count": 110,
     "metadata": {},
     "output_type": "execute_result"
    }
   ],
   "source": [
    "Ts.shape"
   ]
  },
  {
   "cell_type": "code",
   "execution_count": 114,
   "id": "4796c717",
   "metadata": {},
   "outputs": [
    {
     "data": {
      "text/plain": [
       "(3, 2, 5000)"
      ]
     },
     "execution_count": 114,
     "metadata": {},
     "output_type": "execute_result"
    }
   ],
   "source": [
    "np.transpose(Ts,axes=(1,2,0)).shape"
   ]
  },
  {
   "cell_type": "code",
   "execution_count": null,
   "id": "8387b729",
   "metadata": {},
   "outputs": [],
   "source": []
  }
 ],
 "metadata": {
  "kernelspec": {
   "display_name": "Python 3",
   "language": "python",
   "name": "python3"
  },
  "language_info": {
   "codemirror_mode": {
    "name": "ipython",
    "version": 3
   },
   "file_extension": ".py",
   "mimetype": "text/x-python",
   "name": "python",
   "nbconvert_exporter": "python",
   "pygments_lexer": "ipython3",
   "version": "3.6.13"
  }
 },
 "nbformat": 4,
 "nbformat_minor": 5
}
