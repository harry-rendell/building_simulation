{
 "cells": [
  {
   "cell_type": "code",
   "execution_count": 1,
   "id": "039dc33b",
   "metadata": {},
   "outputs": [],
   "source": [
    "import numpy as np\n",
    "import pandas as pd\n",
    "import matplotlib.pyplot as plt\n",
    "from funcs.models import model_ND"
   ]
  },
  {
   "cell_type": "code",
   "execution_count": 2,
   "id": "4167a2a0",
   "metadata": {},
   "outputs": [
    {
     "ename": "IndexError",
     "evalue": "index 49 is out of bounds for axis 0 with size 49",
     "output_type": "error",
     "traceback": [
      "\u001b[0;31m---------------------------------------------------------------------------\u001b[0m",
      "\u001b[0;31mIndexError\u001b[0m                                Traceback (most recent call last)",
      "\u001b[0;32m<ipython-input-2-00940432961e>\u001b[0m in \u001b[0;36m<module>\u001b[0;34m\u001b[0m\n\u001b[1;32m     14\u001b[0m \u001b[0;31m# Run simulation. This recreates simple_model.ipynb showing that our generalised model works.\u001b[0m\u001b[0;34m\u001b[0m\u001b[0;34m\u001b[0m\u001b[0;34m\u001b[0m\u001b[0m\n\u001b[1;32m     15\u001b[0m \u001b[0mtimes\u001b[0m \u001b[0;34m=\u001b[0m \u001b[0mnp\u001b[0m\u001b[0;34m.\u001b[0m\u001b[0mlinspace\u001b[0m\u001b[0;34m(\u001b[0m\u001b[0;36m0\u001b[0m\u001b[0;34m,\u001b[0m\u001b[0miterations\u001b[0m\u001b[0;34m*\u001b[0m\u001b[0mtimestep\u001b[0m\u001b[0;34m/\u001b[0m\u001b[0;34m(\u001b[0m\u001b[0;36m3600\u001b[0m\u001b[0;34m*\u001b[0m\u001b[0;36m24\u001b[0m\u001b[0;34m)\u001b[0m\u001b[0;34m,\u001b[0m \u001b[0miterations\u001b[0m\u001b[0;34m,\u001b[0m \u001b[0mendpoint\u001b[0m\u001b[0;34m=\u001b[0m\u001b[0;32mFalse\u001b[0m\u001b[0;34m)\u001b[0m\u001b[0;34m\u001b[0m\u001b[0;34m\u001b[0m\u001b[0m\n\u001b[0;32m---> 16\u001b[0;31m \u001b[0mTs\u001b[0m\u001b[0;34m,\u001b[0m \u001b[0mQs\u001b[0m \u001b[0;34m=\u001b[0m \u001b[0msys_nd\u001b[0m\u001b[0;34m.\u001b[0m\u001b[0mrun\u001b[0m\u001b[0;34m(\u001b[0m\u001b[0miterations\u001b[0m\u001b[0;34m=\u001b[0m\u001b[0miterations\u001b[0m\u001b[0;34m,\u001b[0m \u001b[0mtimes\u001b[0m\u001b[0;34m=\u001b[0m\u001b[0mtimes\u001b[0m\u001b[0;34m)\u001b[0m\u001b[0;34m\u001b[0m\u001b[0;34m\u001b[0m\u001b[0m\n\u001b[0m",
      "\u001b[0;32m~/projects/Nomad/building_simulation/funcs/models.py\u001b[0m in \u001b[0;36mrun\u001b[0;34m(self, iterations, times, plot)\u001b[0m\n\u001b[1;32m     86\u001b[0m         \u001b[0;32mfor\u001b[0m \u001b[0mi\u001b[0m \u001b[0;32min\u001b[0m \u001b[0mrange\u001b[0m\u001b[0;34m(\u001b[0m\u001b[0miterations\u001b[0m\u001b[0;34m)\u001b[0m\u001b[0;34m:\u001b[0m\u001b[0;34m\u001b[0m\u001b[0;34m\u001b[0m\u001b[0m\n\u001b[1;32m     87\u001b[0m \u001b[0;31m#             self.Q_in = 0.5 * ( 1 + 0.6*np.sin(2*np.pi*i/50.0)) # generalise this to any function or input data\u001b[0m\u001b[0;34m\u001b[0m\u001b[0;34m\u001b[0m\u001b[0;34m\u001b[0m\u001b[0m\n\u001b[0;32m---> 88\u001b[0;31m             \u001b[0mself\u001b[0m\u001b[0;34m.\u001b[0m\u001b[0mupdate\u001b[0m\u001b[0;34m(\u001b[0m\u001b[0mdtimes\u001b[0m\u001b[0;34m[\u001b[0m\u001b[0mi\u001b[0m\u001b[0;34m]\u001b[0m\u001b[0;34m)\u001b[0m\u001b[0;34m\u001b[0m\u001b[0;34m\u001b[0m\u001b[0m\n\u001b[0m\u001b[1;32m     89\u001b[0m             \u001b[0mTs\u001b[0m\u001b[0;34m[\u001b[0m\u001b[0mi\u001b[0m\u001b[0;34m]\u001b[0m \u001b[0;34m=\u001b[0m \u001b[0mself\u001b[0m\u001b[0;34m.\u001b[0m\u001b[0mT\u001b[0m\u001b[0;34m\u001b[0m\u001b[0;34m\u001b[0m\u001b[0m\n\u001b[1;32m     90\u001b[0m             \u001b[0mQs\u001b[0m\u001b[0;34m.\u001b[0m\u001b[0mappend\u001b[0m\u001b[0;34m(\u001b[0m\u001b[0mself\u001b[0m\u001b[0;34m.\u001b[0m\u001b[0mQ_in\u001b[0m\u001b[0;34m)\u001b[0m\u001b[0;34m\u001b[0m\u001b[0;34m\u001b[0m\u001b[0m\n",
      "\u001b[0;31mIndexError\u001b[0m: index 49 is out of bounds for axis 0 with size 49"
     ]
    }
   ],
   "source": [
    "# Simplest example, \n",
    "k = 6e5\n",
    "c = 800.0\n",
    "T = 15.0\n",
    "T_out = 10\n",
    "heatinput = 1000\n",
    "\n",
    "# Initialise class with system parameters\n",
    "sys_nd = model_ND(k, c, T, T_out, heatinput)\n",
    "\n",
    "timestep = 60\n",
    "iterations = 50\n",
    "\n",
    "# Run simulation. This recreates simple_model.ipynb showing that our generalised model works.\n",
    "times = np.linspace(0,iterations*timestep/(3600*24), iterations, endpoint=False)\n",
    "Ts, Qs = sys_nd.run(iterations=iterations, times=times)"
   ]
  },
  {
   "cell_type": "code",
   "execution_count": null,
   "id": "290d3fa4",
   "metadata": {},
   "outputs": [],
   "source": [
    "def f(params, args):\n",
    "\n",
    "    heatinput, T_out, timestep, iterations = args\n",
    "    k_est, c_est, T_est = params\n",
    "    Ts_est = []\n",
    "    \n",
    "    for i in range(iterations):\n",
    "        net_heatflow = heatinput - c_est * (T_est - T_out)\n",
    "        T_est += net_heatflow * timestep / k_est\n",
    "        Ts_est.append(T_est)\n",
    "        \n",
    "    Ts_est = np.array(Ts_est)\n",
    "    \n",
    "    return Ts_est"
   ]
  },
  {
   "cell_type": "code",
   "execution_count": 41,
   "id": "5769456e",
   "metadata": {},
   "outputs": [
    {
     "data": {
      "text/plain": [
       "5.472903124474993e-06"
      ]
     },
     "execution_count": 41,
     "metadata": {},
     "output_type": "execute_result"
    }
   ],
   "source": [
    "params = [k+1, c+1, T]\n",
    "args   = [heatinput, T_out, 60, 50]\n",
    "f(params, args)"
   ]
  },
  {
   "cell_type": "code",
   "execution_count": 42,
   "id": "0aa79c79",
   "metadata": {},
   "outputs": [],
   "source": [
    "from scipy.optimize import curve_fit"
   ]
  },
  {
   "cell_type": "code",
   "execution_count": null,
   "id": "a17f29a8",
   "metadata": {},
   "outputs": [],
   "source": [
    "curve_fit(f, )"
   ]
  },
  {
   "cell_type": "code",
   "execution_count": null,
   "id": "ebf8d505",
   "metadata": {},
   "outputs": [],
   "source": [
    "for i in range(iterations):\n",
    "    \n",
    "    net_heatflow_3 = heatinput - c3*(t3 - t2)\n",
    "    net_heatflow_2 = c3*(t3 - t2) - c2*(t2 - t1) \n",
    "    net_heatflow_1 = c2*(t2 - t1) - c1*(t1 - outside)\n",
    "    \n",
    "    t3 += (net_heatflow_3 * timestep) / k3\n",
    "    t2 += (net_heatflow_2 * timestep) / k2\n",
    "    t1 += (net_heatflow_1 * timestep) / k1\n",
    "    "
   ]
  }
 ],
 "metadata": {
  "kernelspec": {
   "display_name": "Python 3",
   "language": "python",
   "name": "python3"
  },
  "language_info": {
   "codemirror_mode": {
    "name": "ipython",
    "version": 3
   },
   "file_extension": ".py",
   "mimetype": "text/x-python",
   "name": "python",
   "nbconvert_exporter": "python",
   "pygments_lexer": "ipython3",
   "version": "3.6.13"
  }
 },
 "nbformat": 4,
 "nbformat_minor": 5
}
